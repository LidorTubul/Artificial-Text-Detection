{
  "nbformat": 4,
  "nbformat_minor": 0,
  "metadata": {
    "colab": {
      "provenance": [],
      "machine_shape": "hm",
      "gpuType": "T4"
    },
    "kernelspec": {
      "name": "python3",
      "display_name": "Python 3"
    },
    "language_info": {
      "name": "python"
    },
    "accelerator": "GPU",
    "widgets": {
      "application/vnd.jupyter.widget-state+json": {
        "c470817dcda84666b63630e6085e0b55": {
          "model_module": "@jupyter-widgets/controls",
          "model_name": "HBoxModel",
          "model_module_version": "1.5.0",
          "state": {
            "_dom_classes": [],
            "_model_module": "@jupyter-widgets/controls",
            "_model_module_version": "1.5.0",
            "_model_name": "HBoxModel",
            "_view_count": null,
            "_view_module": "@jupyter-widgets/controls",
            "_view_module_version": "1.5.0",
            "_view_name": "HBoxView",
            "box_style": "",
            "children": [
              "IPY_MODEL_31f0a6e9639f4e8b849d43ac74d5a039",
              "IPY_MODEL_8af73c1ed3aa418ca1c6b7444bb1a60e",
              "IPY_MODEL_5cb094da23fa499c9ffeae86153ca68c"
            ],
            "layout": "IPY_MODEL_5ddd90c986c9436a9917103379222159"
          }
        },
        "31f0a6e9639f4e8b849d43ac74d5a039": {
          "model_module": "@jupyter-widgets/controls",
          "model_name": "HTMLModel",
          "model_module_version": "1.5.0",
          "state": {
            "_dom_classes": [],
            "_model_module": "@jupyter-widgets/controls",
            "_model_module_version": "1.5.0",
            "_model_name": "HTMLModel",
            "_view_count": null,
            "_view_module": "@jupyter-widgets/controls",
            "_view_module_version": "1.5.0",
            "_view_name": "HTMLView",
            "description": "",
            "description_tooltip": null,
            "layout": "IPY_MODEL_8ab951e4d1814a4bb77b7db5e5e77541",
            "placeholder": "​",
            "style": "IPY_MODEL_a8a579f21c1f4f79ad1a3d1a4ce14afa",
            "value": "model.safetensors: 100%"
          }
        },
        "8af73c1ed3aa418ca1c6b7444bb1a60e": {
          "model_module": "@jupyter-widgets/controls",
          "model_name": "FloatProgressModel",
          "model_module_version": "1.5.0",
          "state": {
            "_dom_classes": [],
            "_model_module": "@jupyter-widgets/controls",
            "_model_module_version": "1.5.0",
            "_model_name": "FloatProgressModel",
            "_view_count": null,
            "_view_module": "@jupyter-widgets/controls",
            "_view_module_version": "1.5.0",
            "_view_name": "ProgressView",
            "bar_style": "success",
            "description": "",
            "description_tooltip": null,
            "layout": "IPY_MODEL_4a45adc8d6974f328782ad840dda1918",
            "max": 1115567652,
            "min": 0,
            "orientation": "horizontal",
            "style": "IPY_MODEL_a0b4dd86f711455ba066fc716c8be6b9",
            "value": 1115567652
          }
        },
        "5cb094da23fa499c9ffeae86153ca68c": {
          "model_module": "@jupyter-widgets/controls",
          "model_name": "HTMLModel",
          "model_module_version": "1.5.0",
          "state": {
            "_dom_classes": [],
            "_model_module": "@jupyter-widgets/controls",
            "_model_module_version": "1.5.0",
            "_model_name": "HTMLModel",
            "_view_count": null,
            "_view_module": "@jupyter-widgets/controls",
            "_view_module_version": "1.5.0",
            "_view_name": "HTMLView",
            "description": "",
            "description_tooltip": null,
            "layout": "IPY_MODEL_ee27be7a2e3e49c2ba2278396bb63791",
            "placeholder": "​",
            "style": "IPY_MODEL_a4843d0d3fa6492c9f600b5a69a06d2e",
            "value": " 1.12G/1.12G [00:06&lt;00:00, 43.1MB/s]"
          }
        },
        "5ddd90c986c9436a9917103379222159": {
          "model_module": "@jupyter-widgets/base",
          "model_name": "LayoutModel",
          "model_module_version": "1.2.0",
          "state": {
            "_model_module": "@jupyter-widgets/base",
            "_model_module_version": "1.2.0",
            "_model_name": "LayoutModel",
            "_view_count": null,
            "_view_module": "@jupyter-widgets/base",
            "_view_module_version": "1.2.0",
            "_view_name": "LayoutView",
            "align_content": null,
            "align_items": null,
            "align_self": null,
            "border": null,
            "bottom": null,
            "display": null,
            "flex": null,
            "flex_flow": null,
            "grid_area": null,
            "grid_auto_columns": null,
            "grid_auto_flow": null,
            "grid_auto_rows": null,
            "grid_column": null,
            "grid_gap": null,
            "grid_row": null,
            "grid_template_areas": null,
            "grid_template_columns": null,
            "grid_template_rows": null,
            "height": null,
            "justify_content": null,
            "justify_items": null,
            "left": null,
            "margin": null,
            "max_height": null,
            "max_width": null,
            "min_height": null,
            "min_width": null,
            "object_fit": null,
            "object_position": null,
            "order": null,
            "overflow": null,
            "overflow_x": null,
            "overflow_y": null,
            "padding": null,
            "right": null,
            "top": null,
            "visibility": null,
            "width": null
          }
        },
        "8ab951e4d1814a4bb77b7db5e5e77541": {
          "model_module": "@jupyter-widgets/base",
          "model_name": "LayoutModel",
          "model_module_version": "1.2.0",
          "state": {
            "_model_module": "@jupyter-widgets/base",
            "_model_module_version": "1.2.0",
            "_model_name": "LayoutModel",
            "_view_count": null,
            "_view_module": "@jupyter-widgets/base",
            "_view_module_version": "1.2.0",
            "_view_name": "LayoutView",
            "align_content": null,
            "align_items": null,
            "align_self": null,
            "border": null,
            "bottom": null,
            "display": null,
            "flex": null,
            "flex_flow": null,
            "grid_area": null,
            "grid_auto_columns": null,
            "grid_auto_flow": null,
            "grid_auto_rows": null,
            "grid_column": null,
            "grid_gap": null,
            "grid_row": null,
            "grid_template_areas": null,
            "grid_template_columns": null,
            "grid_template_rows": null,
            "height": null,
            "justify_content": null,
            "justify_items": null,
            "left": null,
            "margin": null,
            "max_height": null,
            "max_width": null,
            "min_height": null,
            "min_width": null,
            "object_fit": null,
            "object_position": null,
            "order": null,
            "overflow": null,
            "overflow_x": null,
            "overflow_y": null,
            "padding": null,
            "right": null,
            "top": null,
            "visibility": null,
            "width": null
          }
        },
        "a8a579f21c1f4f79ad1a3d1a4ce14afa": {
          "model_module": "@jupyter-widgets/controls",
          "model_name": "DescriptionStyleModel",
          "model_module_version": "1.5.0",
          "state": {
            "_model_module": "@jupyter-widgets/controls",
            "_model_module_version": "1.5.0",
            "_model_name": "DescriptionStyleModel",
            "_view_count": null,
            "_view_module": "@jupyter-widgets/base",
            "_view_module_version": "1.2.0",
            "_view_name": "StyleView",
            "description_width": ""
          }
        },
        "4a45adc8d6974f328782ad840dda1918": {
          "model_module": "@jupyter-widgets/base",
          "model_name": "LayoutModel",
          "model_module_version": "1.2.0",
          "state": {
            "_model_module": "@jupyter-widgets/base",
            "_model_module_version": "1.2.0",
            "_model_name": "LayoutModel",
            "_view_count": null,
            "_view_module": "@jupyter-widgets/base",
            "_view_module_version": "1.2.0",
            "_view_name": "LayoutView",
            "align_content": null,
            "align_items": null,
            "align_self": null,
            "border": null,
            "bottom": null,
            "display": null,
            "flex": null,
            "flex_flow": null,
            "grid_area": null,
            "grid_auto_columns": null,
            "grid_auto_flow": null,
            "grid_auto_rows": null,
            "grid_column": null,
            "grid_gap": null,
            "grid_row": null,
            "grid_template_areas": null,
            "grid_template_columns": null,
            "grid_template_rows": null,
            "height": null,
            "justify_content": null,
            "justify_items": null,
            "left": null,
            "margin": null,
            "max_height": null,
            "max_width": null,
            "min_height": null,
            "min_width": null,
            "object_fit": null,
            "object_position": null,
            "order": null,
            "overflow": null,
            "overflow_x": null,
            "overflow_y": null,
            "padding": null,
            "right": null,
            "top": null,
            "visibility": null,
            "width": null
          }
        },
        "a0b4dd86f711455ba066fc716c8be6b9": {
          "model_module": "@jupyter-widgets/controls",
          "model_name": "ProgressStyleModel",
          "model_module_version": "1.5.0",
          "state": {
            "_model_module": "@jupyter-widgets/controls",
            "_model_module_version": "1.5.0",
            "_model_name": "ProgressStyleModel",
            "_view_count": null,
            "_view_module": "@jupyter-widgets/base",
            "_view_module_version": "1.2.0",
            "_view_name": "StyleView",
            "bar_color": null,
            "description_width": ""
          }
        },
        "ee27be7a2e3e49c2ba2278396bb63791": {
          "model_module": "@jupyter-widgets/base",
          "model_name": "LayoutModel",
          "model_module_version": "1.2.0",
          "state": {
            "_model_module": "@jupyter-widgets/base",
            "_model_module_version": "1.2.0",
            "_model_name": "LayoutModel",
            "_view_count": null,
            "_view_module": "@jupyter-widgets/base",
            "_view_module_version": "1.2.0",
            "_view_name": "LayoutView",
            "align_content": null,
            "align_items": null,
            "align_self": null,
            "border": null,
            "bottom": null,
            "display": null,
            "flex": null,
            "flex_flow": null,
            "grid_area": null,
            "grid_auto_columns": null,
            "grid_auto_flow": null,
            "grid_auto_rows": null,
            "grid_column": null,
            "grid_gap": null,
            "grid_row": null,
            "grid_template_areas": null,
            "grid_template_columns": null,
            "grid_template_rows": null,
            "height": null,
            "justify_content": null,
            "justify_items": null,
            "left": null,
            "margin": null,
            "max_height": null,
            "max_width": null,
            "min_height": null,
            "min_width": null,
            "object_fit": null,
            "object_position": null,
            "order": null,
            "overflow": null,
            "overflow_x": null,
            "overflow_y": null,
            "padding": null,
            "right": null,
            "top": null,
            "visibility": null,
            "width": null
          }
        },
        "a4843d0d3fa6492c9f600b5a69a06d2e": {
          "model_module": "@jupyter-widgets/controls",
          "model_name": "DescriptionStyleModel",
          "model_module_version": "1.5.0",
          "state": {
            "_model_module": "@jupyter-widgets/controls",
            "_model_module_version": "1.5.0",
            "_model_name": "DescriptionStyleModel",
            "_view_count": null,
            "_view_module": "@jupyter-widgets/base",
            "_view_module_version": "1.2.0",
            "_view_name": "StyleView",
            "description_width": ""
          }
        }
      }
    }
  },
  "cells": [
    {
      "cell_type": "markdown",
      "source": [
        "Lidor Tubul - 318944402\n",
        "Ronen Yakobov - 207688581\n"
      ],
      "metadata": {
        "id": "CxJ0G1wzZVb8"
      }
    },
    {
      "cell_type": "markdown",
      "source": [
        "**Installs the langdetect library and imports necessary libraries**"
      ],
      "metadata": {
        "id": "AaNNvBprPLVB"
      }
    },
    {
      "cell_type": "code",
      "execution_count": 5,
      "metadata": {
        "id": "PSJBh2SruuFQ"
      },
      "outputs": [],
      "source": [
        "!!pip install langdetect\n",
        "import pandas as pd\n",
        "import torch\n",
        "import torch.nn as nn\n",
        "from transformers import AutoTokenizer, AutoModelForSequenceClassification\n",
        "from sklearn.model_selection import train_test_split\n",
        "import numpy as np\n",
        "from torch.utils.data import DataLoader, Dataset\n",
        "from sklearn.metrics import accuracy_score, classification_report, confusion_matrix\n",
        "import seaborn as sns\n",
        "import matplotlib.pyplot as plt\n",
        "from tqdm import tqdm\n",
        "from torch.optim.lr_scheduler import ReduceLROnPlateau\n",
        "import time\n",
        "from langdetect import detect\n",
        "import string\n",
        "from collections import defaultdict\n",
        "from sklearn.feature_extraction.text import TfidfVectorizer\n",
        "from sklearn.ensemble import RandomForestClassifier\n",
        "from sklearn.linear_model import LogisticRegression\n",
        "from sklearn.svm import LinearSVC"
      ]
    },
    {
      "cell_type": "markdown",
      "source": [
        "**italicized textSets** up global variables and initialize the tokenizer and model \"xlm-roberta-base\" and loads the training data**"
      ],
      "metadata": {
        "id": "kWGnep0IPT2l"
      }
    },
    {
      "cell_type": "code",
      "source": [
        "DEVICE = torch.device('cuda' if torch.cuda.is_available() else 'cpu')\n",
        "BATCH_SIZE = 32\n",
        "LEARNING_RATE = 1e-5\n",
        "MAX_LENGTH = 128\n",
        "NUM_EPOCHS = 25\n",
        "\n",
        "# initialize tokenizer\n",
        "tokenizer = AutoTokenizer.from_pretrained(\"xlm-roberta-base\")\n",
        "train = pd.read_csv('dev.csv') # data from https://www.kaggle.com/competitions/xlang-atd-hw/data\n",
        "\n",
        "# sum all lables\n",
        "train['Class'].value_counts()"
      ],
      "metadata": {
        "colab": {
          "base_uri": "https://localhost:8080/",
          "height": 178
        },
        "id": "2CEZLuEZDZR3",
        "outputId": "bafa4ff3-9789-4eb4-de78-2097dc12361c"
      },
      "execution_count": 6,
      "outputs": [
        {
          "output_type": "execute_result",
          "data": {
            "text/plain": [
              "Class\n",
              "H    437\n",
              "M    373\n",
              "Name: count, dtype: int64"
            ],
            "text/html": [
              "<div>\n",
              "<style scoped>\n",
              "    .dataframe tbody tr th:only-of-type {\n",
              "        vertical-align: middle;\n",
              "    }\n",
              "\n",
              "    .dataframe tbody tr th {\n",
              "        vertical-align: top;\n",
              "    }\n",
              "\n",
              "    .dataframe thead th {\n",
              "        text-align: right;\n",
              "    }\n",
              "</style>\n",
              "<table border=\"1\" class=\"dataframe\">\n",
              "  <thead>\n",
              "    <tr style=\"text-align: right;\">\n",
              "      <th></th>\n",
              "      <th>count</th>\n",
              "    </tr>\n",
              "    <tr>\n",
              "      <th>Class</th>\n",
              "      <th></th>\n",
              "    </tr>\n",
              "  </thead>\n",
              "  <tbody>\n",
              "    <tr>\n",
              "      <th>H</th>\n",
              "      <td>437</td>\n",
              "    </tr>\n",
              "    <tr>\n",
              "      <th>M</th>\n",
              "      <td>373</td>\n",
              "    </tr>\n",
              "  </tbody>\n",
              "</table>\n",
              "</div><br><label><b>dtype:</b> int64</label>"
            ]
          },
          "metadata": {},
          "execution_count": 6
        }
      ]
    },
    {
      "cell_type": "markdown",
      "source": [
        "**checks the distribution of classes**"
      ],
      "metadata": {
        "id": "Jsw4H5bAPqDR"
      }
    },
    {
      "cell_type": "markdown",
      "source": [
        "**display the first few rows of the training data**"
      ],
      "metadata": {
        "id": "gadwoXZtPwwU"
      }
    },
    {
      "cell_type": "code",
      "source": [
        "# showing the data\n",
        "train.head()"
      ],
      "metadata": {
        "colab": {
          "base_uri": "https://localhost:8080/",
          "height": 206
        },
        "id": "4BKQpKn4Fk1k",
        "outputId": "19f72899-ea88-4d2d-f48e-933fc3ba06fa"
      },
      "execution_count": 13,
      "outputs": [
        {
          "output_type": "execute_result",
          "data": {
            "text/plain": [
              "       ID                                               Text Class\n",
              "0   37829  Аустралия тілдері әлемдегі ең көне және байырғ...     M\n",
              "1   54972  Rigter!Live is de naam van een eendaags popfes...     M\n",
              "2   51318  Di balik kelam ku dengar suara,  \\nMengalun le...     M\n",
              "3   13701  Di dalam hati yang sunyi dan dalam,  \\nAda ras...     M\n",
              "4  127468  مرکز نے NSCN-IM کے ساتھ ملاقات کی، بات چیت کرن...     H"
            ],
            "text/html": [
              "\n",
              "  <div id=\"df-199230ae-7959-4294-9b10-4d77f35f09a3\" class=\"colab-df-container\">\n",
              "    <div>\n",
              "<style scoped>\n",
              "    .dataframe tbody tr th:only-of-type {\n",
              "        vertical-align: middle;\n",
              "    }\n",
              "\n",
              "    .dataframe tbody tr th {\n",
              "        vertical-align: top;\n",
              "    }\n",
              "\n",
              "    .dataframe thead th {\n",
              "        text-align: right;\n",
              "    }\n",
              "</style>\n",
              "<table border=\"1\" class=\"dataframe\">\n",
              "  <thead>\n",
              "    <tr style=\"text-align: right;\">\n",
              "      <th></th>\n",
              "      <th>ID</th>\n",
              "      <th>Text</th>\n",
              "      <th>Class</th>\n",
              "    </tr>\n",
              "  </thead>\n",
              "  <tbody>\n",
              "    <tr>\n",
              "      <th>0</th>\n",
              "      <td>37829</td>\n",
              "      <td>Аустралия тілдері әлемдегі ең көне және байырғ...</td>\n",
              "      <td>M</td>\n",
              "    </tr>\n",
              "    <tr>\n",
              "      <th>1</th>\n",
              "      <td>54972</td>\n",
              "      <td>Rigter!Live is de naam van een eendaags popfes...</td>\n",
              "      <td>M</td>\n",
              "    </tr>\n",
              "    <tr>\n",
              "      <th>2</th>\n",
              "      <td>51318</td>\n",
              "      <td>Di balik kelam ku dengar suara,  \\nMengalun le...</td>\n",
              "      <td>M</td>\n",
              "    </tr>\n",
              "    <tr>\n",
              "      <th>3</th>\n",
              "      <td>13701</td>\n",
              "      <td>Di dalam hati yang sunyi dan dalam,  \\nAda ras...</td>\n",
              "      <td>M</td>\n",
              "    </tr>\n",
              "    <tr>\n",
              "      <th>4</th>\n",
              "      <td>127468</td>\n",
              "      <td>مرکز نے NSCN-IM کے ساتھ ملاقات کی، بات چیت کرن...</td>\n",
              "      <td>H</td>\n",
              "    </tr>\n",
              "  </tbody>\n",
              "</table>\n",
              "</div>\n",
              "    <div class=\"colab-df-buttons\">\n",
              "\n",
              "  <div class=\"colab-df-container\">\n",
              "    <button class=\"colab-df-convert\" onclick=\"convertToInteractive('df-199230ae-7959-4294-9b10-4d77f35f09a3')\"\n",
              "            title=\"Convert this dataframe to an interactive table.\"\n",
              "            style=\"display:none;\">\n",
              "\n",
              "  <svg xmlns=\"http://www.w3.org/2000/svg\" height=\"24px\" viewBox=\"0 -960 960 960\">\n",
              "    <path d=\"M120-120v-720h720v720H120Zm60-500h600v-160H180v160Zm220 220h160v-160H400v160Zm0 220h160v-160H400v160ZM180-400h160v-160H180v160Zm440 0h160v-160H620v160ZM180-180h160v-160H180v160Zm440 0h160v-160H620v160Z\"/>\n",
              "  </svg>\n",
              "    </button>\n",
              "\n",
              "  <style>\n",
              "    .colab-df-container {\n",
              "      display:flex;\n",
              "      gap: 12px;\n",
              "    }\n",
              "\n",
              "    .colab-df-convert {\n",
              "      background-color: #E8F0FE;\n",
              "      border: none;\n",
              "      border-radius: 50%;\n",
              "      cursor: pointer;\n",
              "      display: none;\n",
              "      fill: #1967D2;\n",
              "      height: 32px;\n",
              "      padding: 0 0 0 0;\n",
              "      width: 32px;\n",
              "    }\n",
              "\n",
              "    .colab-df-convert:hover {\n",
              "      background-color: #E2EBFA;\n",
              "      box-shadow: 0px 1px 2px rgba(60, 64, 67, 0.3), 0px 1px 3px 1px rgba(60, 64, 67, 0.15);\n",
              "      fill: #174EA6;\n",
              "    }\n",
              "\n",
              "    .colab-df-buttons div {\n",
              "      margin-bottom: 4px;\n",
              "    }\n",
              "\n",
              "    [theme=dark] .colab-df-convert {\n",
              "      background-color: #3B4455;\n",
              "      fill: #D2E3FC;\n",
              "    }\n",
              "\n",
              "    [theme=dark] .colab-df-convert:hover {\n",
              "      background-color: #434B5C;\n",
              "      box-shadow: 0px 1px 3px 1px rgba(0, 0, 0, 0.15);\n",
              "      filter: drop-shadow(0px 1px 2px rgba(0, 0, 0, 0.3));\n",
              "      fill: #FFFFFF;\n",
              "    }\n",
              "  </style>\n",
              "\n",
              "    <script>\n",
              "      const buttonEl =\n",
              "        document.querySelector('#df-199230ae-7959-4294-9b10-4d77f35f09a3 button.colab-df-convert');\n",
              "      buttonEl.style.display =\n",
              "        google.colab.kernel.accessAllowed ? 'block' : 'none';\n",
              "\n",
              "      async function convertToInteractive(key) {\n",
              "        const element = document.querySelector('#df-199230ae-7959-4294-9b10-4d77f35f09a3');\n",
              "        const dataTable =\n",
              "          await google.colab.kernel.invokeFunction('convertToInteractive',\n",
              "                                                    [key], {});\n",
              "        if (!dataTable) return;\n",
              "\n",
              "        const docLinkHtml = 'Like what you see? Visit the ' +\n",
              "          '<a target=\"_blank\" href=https://colab.research.google.com/notebooks/data_table.ipynb>data table notebook</a>'\n",
              "          + ' to learn more about interactive tables.';\n",
              "        element.innerHTML = '';\n",
              "        dataTable['output_type'] = 'display_data';\n",
              "        await google.colab.output.renderOutput(dataTable, element);\n",
              "        const docLink = document.createElement('div');\n",
              "        docLink.innerHTML = docLinkHtml;\n",
              "        element.appendChild(docLink);\n",
              "      }\n",
              "    </script>\n",
              "  </div>\n",
              "\n",
              "\n",
              "    <div id=\"df-d9ce4924-0166-4792-abea-40495e1b3053\">\n",
              "      <button class=\"colab-df-quickchart\" onclick=\"quickchart('df-d9ce4924-0166-4792-abea-40495e1b3053')\"\n",
              "                title=\"Suggest charts\"\n",
              "                style=\"display:none;\">\n",
              "\n",
              "<svg xmlns=\"http://www.w3.org/2000/svg\" height=\"24px\"viewBox=\"0 0 24 24\"\n",
              "     width=\"24px\">\n",
              "    <g>\n",
              "        <path d=\"M19 3H5c-1.1 0-2 .9-2 2v14c0 1.1.9 2 2 2h14c1.1 0 2-.9 2-2V5c0-1.1-.9-2-2-2zM9 17H7v-7h2v7zm4 0h-2V7h2v10zm4 0h-2v-4h2v4z\"/>\n",
              "    </g>\n",
              "</svg>\n",
              "      </button>\n",
              "\n",
              "<style>\n",
              "  .colab-df-quickchart {\n",
              "      --bg-color: #E8F0FE;\n",
              "      --fill-color: #1967D2;\n",
              "      --hover-bg-color: #E2EBFA;\n",
              "      --hover-fill-color: #174EA6;\n",
              "      --disabled-fill-color: #AAA;\n",
              "      --disabled-bg-color: #DDD;\n",
              "  }\n",
              "\n",
              "  [theme=dark] .colab-df-quickchart {\n",
              "      --bg-color: #3B4455;\n",
              "      --fill-color: #D2E3FC;\n",
              "      --hover-bg-color: #434B5C;\n",
              "      --hover-fill-color: #FFFFFF;\n",
              "      --disabled-bg-color: #3B4455;\n",
              "      --disabled-fill-color: #666;\n",
              "  }\n",
              "\n",
              "  .colab-df-quickchart {\n",
              "    background-color: var(--bg-color);\n",
              "    border: none;\n",
              "    border-radius: 50%;\n",
              "    cursor: pointer;\n",
              "    display: none;\n",
              "    fill: var(--fill-color);\n",
              "    height: 32px;\n",
              "    padding: 0;\n",
              "    width: 32px;\n",
              "  }\n",
              "\n",
              "  .colab-df-quickchart:hover {\n",
              "    background-color: var(--hover-bg-color);\n",
              "    box-shadow: 0 1px 2px rgba(60, 64, 67, 0.3), 0 1px 3px 1px rgba(60, 64, 67, 0.15);\n",
              "    fill: var(--button-hover-fill-color);\n",
              "  }\n",
              "\n",
              "  .colab-df-quickchart-complete:disabled,\n",
              "  .colab-df-quickchart-complete:disabled:hover {\n",
              "    background-color: var(--disabled-bg-color);\n",
              "    fill: var(--disabled-fill-color);\n",
              "    box-shadow: none;\n",
              "  }\n",
              "\n",
              "  .colab-df-spinner {\n",
              "    border: 2px solid var(--fill-color);\n",
              "    border-color: transparent;\n",
              "    border-bottom-color: var(--fill-color);\n",
              "    animation:\n",
              "      spin 1s steps(1) infinite;\n",
              "  }\n",
              "\n",
              "  @keyframes spin {\n",
              "    0% {\n",
              "      border-color: transparent;\n",
              "      border-bottom-color: var(--fill-color);\n",
              "      border-left-color: var(--fill-color);\n",
              "    }\n",
              "    20% {\n",
              "      border-color: transparent;\n",
              "      border-left-color: var(--fill-color);\n",
              "      border-top-color: var(--fill-color);\n",
              "    }\n",
              "    30% {\n",
              "      border-color: transparent;\n",
              "      border-left-color: var(--fill-color);\n",
              "      border-top-color: var(--fill-color);\n",
              "      border-right-color: var(--fill-color);\n",
              "    }\n",
              "    40% {\n",
              "      border-color: transparent;\n",
              "      border-right-color: var(--fill-color);\n",
              "      border-top-color: var(--fill-color);\n",
              "    }\n",
              "    60% {\n",
              "      border-color: transparent;\n",
              "      border-right-color: var(--fill-color);\n",
              "    }\n",
              "    80% {\n",
              "      border-color: transparent;\n",
              "      border-right-color: var(--fill-color);\n",
              "      border-bottom-color: var(--fill-color);\n",
              "    }\n",
              "    90% {\n",
              "      border-color: transparent;\n",
              "      border-bottom-color: var(--fill-color);\n",
              "    }\n",
              "  }\n",
              "</style>\n",
              "\n",
              "      <script>\n",
              "        async function quickchart(key) {\n",
              "          const quickchartButtonEl =\n",
              "            document.querySelector('#' + key + ' button');\n",
              "          quickchartButtonEl.disabled = true;  // To prevent multiple clicks.\n",
              "          quickchartButtonEl.classList.add('colab-df-spinner');\n",
              "          try {\n",
              "            const charts = await google.colab.kernel.invokeFunction(\n",
              "                'suggestCharts', [key], {});\n",
              "          } catch (error) {\n",
              "            console.error('Error during call to suggestCharts:', error);\n",
              "          }\n",
              "          quickchartButtonEl.classList.remove('colab-df-spinner');\n",
              "          quickchartButtonEl.classList.add('colab-df-quickchart-complete');\n",
              "        }\n",
              "        (() => {\n",
              "          let quickchartButtonEl =\n",
              "            document.querySelector('#df-d9ce4924-0166-4792-abea-40495e1b3053 button');\n",
              "          quickchartButtonEl.style.display =\n",
              "            google.colab.kernel.accessAllowed ? 'block' : 'none';\n",
              "        })();\n",
              "      </script>\n",
              "    </div>\n",
              "\n",
              "    </div>\n",
              "  </div>\n"
            ],
            "application/vnd.google.colaboratory.intrinsic+json": {
              "type": "dataframe",
              "variable_name": "train",
              "summary": "{\n  \"name\": \"train\",\n  \"rows\": 810,\n  \"fields\": [\n    {\n      \"column\": \"ID\",\n      \"properties\": {\n        \"dtype\": \"number\",\n        \"std\": 44386,\n        \"min\": 55,\n        \"max\": 151263,\n        \"num_unique_values\": 810,\n        \"samples\": [\n          125765,\n          87216,\n          130969\n        ],\n        \"semantic_type\": \"\",\n        \"description\": \"\"\n      }\n    },\n    {\n      \"column\": \"Text\",\n      \"properties\": {\n        \"dtype\": \"string\",\n        \"num_unique_values\": 810,\n        \"samples\": [\n          \"El Municipio de Agua Prieta es uno de los 72 municipios del estado mexicano de Sonora. Ubicado en la frontera con Estados Unidos y colindando con el vecino estado de Chihuahua. Su cabecera municipal y localidad m\\u00e1s poblada es la ciudad de Heroica Agua Prieta, otras localidades importantes son: Colonia Morelos, El Rusbayo y Cabullona. Fue nombrado como municipio independiente el 28 de agosto de 1916 y seg\\u00fan el Censo de Poblaci\\u00f3n y Vivienda 2020 realizado por el Instituto Nacional de Estad\\u00edstica y Geograf\\u00eda (INEGI), el municipio tiene una poblaci\\u00f3n total de 91 929 habitantes, coloc\\u00e1ndose como el s\\u00e9ptimo con mayor poblaci\\u00f3n del estado. Como a la mayor\\u00eda de los municipios de Sonora, el nombre se le dio por su cabecera. Su producto interno bruto per c\\u00e1pita es de USD 11,255, y su \\u00edndice de desarrollo humano (IDH) es de 0.8605.\\n\\nHistoria como municipio \\nLos primeros pobladores en la zona del municipio datan del a\\u00f1o de 1898 en el , asentados a tan solo 30 kil\\u00f3metros de la frontera con Estados Unidos, donde en ese entonces recib\\u00eda el nombre de Bachicuy (que en \\u00f3pata significa aguas negras) debido a un peque\\u00f1o estanque de agua en ese lugar que era de color oscuro. Tiempo despu\\u00e9s el poblado se convirti\\u00f3 en Comisar\\u00eda del municipio de Fronteras.\\n\\nLos primeros pobladores en el lugar, fueron personas que comenzaban a trabajar en la compa\\u00f1\\u00eda minera Phelps and Dodge Copper Co., que ten\\u00eda su fundidora en Douglas, Condado de Cochise, Arizona, condado con la que actualmente hace frontera. Al comenzar a ser construida una v\\u00eda del ferrocarril para transportar f\\u00e1cilmente el mineral extra\\u00eddo en Nacozari de Garc\\u00eda que fund\\u00edan de Douglas, comenz\\u00f3 a llegar gente de varias poblaciones vecinas tales como Fronteras, Esqueda, Bacerac, Bavispe y otras. Comenz\\u00f3 as\\u00ed a hacerse aparente cierto movimiento debido a la importancia que iba adquiriendo la fronteriza ciudad de Douglas.\\n\\nEl 28 de agosto de 1903 se concret\\u00f3 la donaci\\u00f3n del fondo legal mediante un convenio del Gobierno del Estado y Don Pedro Camou, propietario de los terrenos de esta zona. Trece a\\u00f1os despu\\u00e9s, en 1916, dej\\u00f3 de ser Comisar\\u00eda dependiente del municipio de Fronteras para convertirse en municipio independiente siendo su primer presidente municipal el se\\u00f1or Rodolfo L. M\\u00e1rquez.\\n\\nGeograf\\u00eda \\nEl municipio est\\u00e1 ubicado en el noreste del estado de Sonora, se localiza en el paralelo 31\\u00b017' de latitud norte y a los 109\\u00b033' de longitud al oeste del meridiano de Greenwich, a una altura m\\u00e1xima de 1,500 metros sobre el nivel del mar y una m\\u00ednima de 800. Colinda al norte con el condado de Cochise, Arizona, E.U.A. y el Condado de Hidalgo, Nuevo M\\u00e9xico, al este con el municipio de Janos, Chihuahua, al sureste con los municipios de Sonora de Bavispe, al sur con el de Nacozari de Garc\\u00eda, al oeste con el de Naco y al sureste con el de Fronteras.\\n\\nL\\u00edmites municipales \\nTiene l\\u00edmites administrativos con los siguientes municipios y condados estadounidenses seg\\u00fan su ubicaci\\u00f3n:\\n\\nLa extensi\\u00f3n territorial es de 3943.07 kil\\u00f3metros cuadrados, que representa el 1.95% del total estatal y el 0.18% del nacional, lo que lo pone el puesto n\\u00famero 12 de su propio estado, en cuanto a territorio.\\n\\nClima \\nEl clima predominante en el municipio es de tipo templado, la temperatura media mensual m\\u00e1xima es de 27.3\\u00a0\\u00b0C en los meses de junio y julio y la media mensual m\\u00ednima es de 7.4\\u00a0\\u00b0C en los meses de diciembre y enero; la temperatura media anual es de 17\\u00a0\\u00b0C; las lluvias se presentan los meses de julio, agosto y septiembre con una precipitaci\\u00f3n media anual de 334.6 mil\\u00edmetros; hay deshielos del norte en los meses de diciembre y febrero.\\n\\nOrograf\\u00eda \\nSu territorio es generalmente monta\\u00f1oso, situado entre las estribaciones de la Sierra Madre Occidental y el sistema orogr\\u00e1fico que se desprende de \\u00e9sta en direcci\\u00f3n oeste, cuyo eje denominante, se encuentra en la l\\u00ednea divisoria internacional; sus serran\\u00edas m\\u00e1s notables son las de Agua Prieta, La Ceniza, Los Embudos, Las Minitas, Pan Duro, La Cabellera, Las Espuelas.\\nOtras sierras son:\\n Sierra Anibacachi\\n Sierra de San Bernardino\\n Sierra Caloso\\n Sierra Alisitos\\n Sierra Basomari\\n Sierra de la Ventana\\n Sierra Los Huerfanitos\\n Sierra Fronteras\\n Sierra Pit\\u00e1ycachi\\n Sierra La Escondido\\n Sierra La Cabellera\\n Sierra Las Cuevas\\n Sierra de Teras\\n Sierra de Enmedio\\n Sierra Los Bancos\\n Sierra Las Delicias\\n\\nHidrograf\\u00eda \\nSe ubica en la cuenca del r\\u00edo Yaqui. El arroyo Punta de Agua, que nace en la sierra de San Jos\\u00e9, en el municipio de Naco, penetra a su territorio, continuando hacia el este hasta unirse al r\\u00edo Agua Prieta; \\u00e9ste y el arroyo Caj\\u00f3n Bonito se unen al r\\u00edo Batepito, el cual sigue hacia el sur, para descargar en el r\\u00edo Bavispe.\\n\\nFlora y fauna \\n\\nEn el noroeste del municipio existen pastizales naturales, denominados tambi\\u00e9n zacatales, as\\u00ed como navajita belluda, navajita delgada, zacate galleta, toboso y zacat\\u00f3n; en su parte central existen agrupaciones de bosques de encinos y pinos.\\n\\nEn cuanto a fauna, existen las especies de;\\nAnfibios: rana com\\u00fan, salamandra, ajolote, sapo toro\\nReptiles: tortuga, cachor\\u00f3n, camale\\u00f3n y chirrionera\\nMam\\u00edferos: venado, puma, coyote, jabal\\u00ed y mapache\\nAves: esmerej\\u00f3n, buitre, \\u00e1guila y aguililla cola roja.\\n\\nDemograf\\u00eda \\nDe acuerdo a los resultados del Censo de Poblaci\\u00f3n y Vivienda realizado en 2020 por el Instituto Nacional de Estad\\u00edstica y Geograf\\u00eda (INEGI), la poblaci\\u00f3n total del municipio es de 91 929 habitantes; con una densidad poblacional de 23.31 hab/km\\u00b2, y ocupa el puesto 7\\u00b0 en el estado por orden de poblaci\\u00f3n. Del total de pobladores, 45 811 son hombres y 46 118 son mujeres. En 2020 hab\\u00eda 1113 viviendas, pero de estas 790 viviendas estaban habitadas, de las cuales 182 estaban bajo el cargo de una mujer. Del total de los habitantes, 431 personas mayores de 3 a\\u00f1os (0.47% del total municipal) habla alguna lengua ind\\u00edgena; mientras que 593 habitantes (0.65%) se consideran afromexicanos o afrodescendientes.\\n\\nEl 66.1% del municipio pertenece a la religi\\u00f3n cat\\u00f3lica, el 16.73% es cristiano evang\\u00e9lico/protestante o de alguna variante y el 0.04% es de otra religi\\u00f3n, mientras que el 16.89% no profesa ninguna religi\\u00f3n.\\n\\nEducaci\\u00f3n y salud \\nSeg\\u00fan el Censo de Poblaci\\u00f3n y Vivienda de 2020; 436 ni\\u00f1os de entre 6 y 11 a\\u00f1os (0.47% del total), 324 adolescentes de entre 12 y 14 a\\u00f1os (0.35%), 3877 adolescentes de entre 15 y 17 a\\u00f1os (4.22%) y 3224 j\\u00f3venes de entre 18 y 24 a\\u00f1os (3.54%) no asisten a ninguna instituci\\u00f3n educativa. 989 habitantes de 15 a\\u00f1os o m\\u00e1s (1.08%) son analfabetas, 1404 habitantes de 15 a\\u00f1os o m\\u00e1s (1.53%) no tienen ning\\u00fan grado de escolaridad, 4069 personas de 15 a\\u00f1os o m\\u00e1s (4.43%) lograron estudiar la primaria pero no la culminaron, 2762 personas de 15 a\\u00f1os o m\\u00e1s (3%) iniciaron la secundaria sin terminarla, teniendo el municipio un grado de escolaridad de 9.64.\\n\\nLa cantidad de poblaci\\u00f3n que no est\\u00e1 afiliada a un servicio de salud es de 26718 personas, es decir, el 29.26% del total municipal, de lo contrario el 70.76% si cuenta con un seguro m\\u00e9dico ya sea p\\u00fablico o privado. En el territorio, 4039 personas (4.39%) tienen alguna discapacidad o l\\u00edmite motriz para realizar sus actividades diarias, mientras que 1129 habitantes (4.39%) poseen alg\\u00fan problema o condici\\u00f3n mental.\\n\\nLocalidades \\nLocalidades con m\\u00e1s de 10 habitantes:\\n\\nGobierno \\n\\nLa sede del gobierno municipal se encuentra en la cabecera, la ciudad de Heroica Agua Prieta. El ayuntamiento est\\u00e1 integrado en un presidente municipal y su gabinete; un s\\u00edndico, 4 regidores de mayor\\u00eda relativa y 2 de representaci\\u00f3n proporcional, electos cada 3 a\\u00f1os. La reglamentaci\\u00f3n municipal se basa en el Bando de polic\\u00eda y buen gobierno. El municipio se encuentra constituido por 168 localidades.\\n\\nEl municipio pertenece al II Distrito Electoral Federal de Sonora con sede en Nogales, y al VII Distrito Electoral de Sonora con sede en la ciudad de Heroica Agua Prieta.\\n\\nCronolog\\u00eda de presidentes municipales\\n\\nV\\u00e9ase tambi\\u00e9n \\n\\n Municipios de Sonora\\n\\nReferencias \\n\\nMunicipios del estado de Sonora\\nMunicipios de la Di\\u00f3cesis de Nogales\\nMunicipios fronterizos de Sonora\\nAgua Prieta\",\n          \"Frank McCarthy (* 26. August 1971) ist ein britischer Radio-DJ, deutschen H\\u00f6rern vor allem bekannt durch seine montags bis donnerstags von 19 bis 22 Uhr ausgestrahlte Radioshow bei BFBS Radio Germany.\\n\\nLeben\\nFrank McCarthy wurde im schottischen Bellshill geboren, wuchs aber \\u00fcberwiegend in Deutschland auf. Seine Familie zog 1974 nach Rheindahlen, sein Vater arbeitete als Konrektor an der britischen St. Clemens School in der damals noch eigenst\\u00e4ndigen Gemeinde Wickrath. 1982 \\u00fcbersiedelte die Familie nach Oerlinghausen. Dort war Frank McCarthy sen. bis zu ihrer Schlie\\u00dfung 1994 Leiter der British Forces Service Children\\u2019s Schools.\\nKurz nach Beendigung seiner Schulzeit volontierte McCarthy zwei Monate im BFBS-Studio Bielefeld, anschlie\\u00dfend (Oktober 1990) zog er nach Herford und arbeitete im damals neuen Sendezentrum von BFBS Germany, zun\\u00e4chst als Assistent, sp\\u00e4ter als Moderator und Produzent. Seine erste eigene Sendung (Late Show von 22 bis 0 Uhr) moderierte er im Oktober 1992. Weitere Sendungen, die er als Moderator und zum Teil auch als Produzent betreute, waren Saturday Lunch (Januar bis Oktober 1993), Weekend Breakfast (Januar 1994 bis April 1996), Weekday Drivetime (April 1996 bis April 1999) und Weekday Lunch (April 1999 bis April 2001).\\nSchon w\\u00e4hrend seiner letzten Jahre in Deutschland wurde er zweimal f\\u00fcr mehrere Monate nach Pri\\u0161tina versetzt, wo er bei BFBS Kosovo ebenfalls als Moderator und Produzent arbeitete. Seit Juli 2001 ist er f\\u00fcr BFBS UK t\\u00e4tig, wurde aber bis 2006 immer wieder f\\u00fcr Auslandseins\\u00e4tze abgestellt. Er arbeitete als Moderator, Produzent und teilweise auch Sendeleiter f\\u00fcr die BFBS-Stationen auf den Falklandinseln, in Bosnien, Belize, auf Gibraltar, im Irak und auf Zypern. Ab September 2006 betreute er seine Sendungen ausschlie\\u00dflich in England, seit Juni 2016 in Kanada.\\nMcCarthy ist seit seinem siebenten Lebensjahr ein begeisterter Schlagzeuger (Spitzname: \\u201eFrank Drummer\\u201c) und hat in mehreren Bands gespielt. Neben seiner Radiot\\u00e4tigkeit schreibt er Musikkritiken und arbeitet als DJ in Clubs und Diskotheken. Bisweilen produziert er junge, noch unbekannte Bands, deren F\\u00f6rderung ihm besonders am Herzen liegt.\\nEr lebt heute in der Grafschaft Buckinghamshire nordwestlich von London, in der auch die Zentrale des BFBS ihren Sitz hat.\\n\\nDie aktuelle Sendung\\nMcCarthys von Montag bis Donnerstag ausgestrahlte dreist\\u00fcndige Sendung, die seinen Namen tr\\u00e4gt, pr\\u00e4sentiert am Montag ausschlie\\u00dflich die Official UK Top 40 Charts. An den restlichen Tagen wird ein bunter Mix aus aktuellen Hits und Titeln aus dem Alternative- und Independent-Bereich gesendet. Dem breiten Publikum noch unbekannten Interpreten wird dabei besondere Aufmerksamkeit gewidmet. McCarthy moderiert die Sendung nicht nur, sondern ist auch ihr Produzent.\\nZust\\u00e4ndig ist er \\u00fcberdies f\\u00fcr die BFBS Live Sessions, bei denen Bands oder Solointerpreten akustische Sets im BFBS-Studio spielen. Die aufgezeichneten Ergebnisse dieser Sets werden, meist schon wenige Tage sp\\u00e4ter, ebenfalls in seiner Sendung ausgestrahlt.\\n\\nWeblinks\\nKurzbiographie Frank McCarthy beim BFBS (englisch)\\nFrank McCarthys Programmseite beim BFBS (englisch)\\nFrank McCarthy bei MySpace (\\u00fcberwiegend englisch)\\nInterview mit Frank McCarthy bei sortednoise (deutsch)\",\n          \"Iz*One (c\\u00e1ch \\u0111i\\u1ec7u: IZ*ONE, ti\\u1ebfng H\\u00e0n: \\uc544\\uc774\\uc988\\uc6d0, ti\\u1ebfng Nh\\u1eadt: \\u30a2\\u30a4\\u30ba\\u30ef\\u30f3) l\\u00e0 m\\u1ed9t nh\\u00f3m nh\\u1ea1c n\\u1eef H\\u00e0n Qu\\u1ed1c\\u2013Nh\\u1eadt B\\u1ea3n \\u0111\\u01b0\\u1ee3c th\\u00e0nh l\\u1eadp th\\u00f4ng qua ch\\u01b0\\u01a1ng tr\\u00ecnh truy\\u1ec1n h\\u00ecnh th\\u1ef1c t\\u1ebf s\\u1ed1ng c\\u00f2n \\\"Produce 48\\\" c\\u1ee7a Mnet v\\u00e0o n\\u0103m 2018. Nh\\u00f3m g\\u1ed3m 12 th\\u00e0nh vi\\u00ean: Jang Won-young, Sakura Miyawaki, Jo Yu-ri, Choi Ye-na, An Yu-jin, Nako Yabuki, Kwon Eun-bi, Kang Hye-won, Honda Hitomi, Kim Chae-won, Kim Min-ju v\\u00e0 Lee Chae-yeon. Iz*One ra m\\u1eaft c\\u00f4ng ch\\u00fang v\\u00e0o ng\\u00e0y 29 th\\u00e1ng 10 n\\u0103m 2018 v\\u1edbi album \\u0111\\u1ea7u tay \\\"Color*Iz\\\" v\\u00e0 nhanh ch\\u00f3ng nh\\u1eadn \\u0111\\u01b0\\u1ee3c s\\u1ef1 y\\u00eau m\\u1ebfn nh\\u1edd v\\u00e0o phong c\\u00e1ch \\u00e2m nh\\u1ea1c \\u0111a d\\u1ea1ng v\\u00e0 c\\u00e1c m\\u00e0n tr\\u00ecnh di\\u1ec5n \\u1ea5n t\\u01b0\\u1ee3ng. Trong su\\u1ed1t th\\u1eddi gian ho\\u1ea1t \\u0111\\u1ed9ng, nh\\u00f3m \\u0111\\u00e3 g\\u1eb7t h\\u00e1i nhi\\u1ec1u th\\u00e0nh c\\u00f4ng tr\\u00ean c\\u00e1c b\\u1ea3ng x\\u1ebfp h\\u1ea1ng \\u00e2m nh\\u1ea1c H\\u00e0n Qu\\u1ed1c v\\u00e0 Nh\\u1eadt B\\u1ea3n, \\u0111\\u1ed3ng th\\u1eddi t\\u1ed5 ch\\u1ee9c nhi\\u1ec1u bu\\u1ed5i h\\u00f2a nh\\u1ea1c qu\\u1ed1c t\\u1ebf. Sau khi k\\u1ebft th\\u00fac h\\u1ee3p \\u0111\\u1ed3ng v\\u00e0o th\\u00e1ng 4 n\\u0103m 2021, c\\u00e1c th\\u00e0nh vi\\u00ean c\\u1ee7a Iz*One chia tay \\u0111\\u1ec3 theo \\u0111u\\u1ed5i s\\u1ef1 nghi\\u1ec7p ri\\u00eang, \\u0111\\u1ec3 l\\u1ea1i d\\u1ea5u \\u1ea5n s\\u00e2u \\u0111\\u1eadm trong l\\u00f2ng ng\\u01b0\\u1eddi h\\u00e2m m\\u1ed9.\"\n        ],\n        \"semantic_type\": \"\",\n        \"description\": \"\"\n      }\n    },\n    {\n      \"column\": \"Class\",\n      \"properties\": {\n        \"dtype\": \"category\",\n        \"num_unique_values\": 2,\n        \"samples\": [\n          \"H\",\n          \"M\"\n        ],\n        \"semantic_type\": \"\",\n        \"description\": \"\"\n      }\n    }\n  ]\n}"
            }
          },
          "metadata": {},
          "execution_count": 13
        }
      ]
    },
    {
      "cell_type": "markdown",
      "source": [
        "**defines two functions: get_multilingual_text_statistics to calculate text statistics like language, length, punctuation and analyze_multilingual_dataset to apply these statistics to a dataframe and analyze the language distribution**"
      ],
      "metadata": {
        "id": "anp83BrmP-fw"
      }
    },
    {
      "cell_type": "code",
      "source": [
        "def get_multilingual_text_statistics(text):\n",
        "    \"\"\"Calculate text statistics with language detection.\"\"\"\n",
        "    try:\n",
        "        # detect language\n",
        "        lang = detect(text)\n",
        "\n",
        "        # basic statistics that work for all languages\n",
        "        stats = {\n",
        "            'language': lang,\n",
        "            'total_length': len(text),\n",
        "            'num_sentences': len(text.split('.')),  # simple sentence splitting\n",
        "            'num_tokens': len(text.split()),  # simple token counting\n",
        "            'avg_token_length': np.mean([len(token) for token in text.split()]),\n",
        "            'punctuation_count': sum(1 for char in text if char in string.punctuation),\n",
        "            'uppercase_ratio': sum(1 for c in text if c.isupper()) / len(text) if text else 0,\n",
        "            'spaces_ratio': sum(1 for c in text if c.isspace()) / len(text) if text else 0,\n",
        "            'digits_ratio': sum(1 for c in text if c.isdigit()) / len(text) if text else 0\n",
        "        }\n",
        "\n",
        "    except:\n",
        "        # if language detection fails\n",
        "        stats = {\n",
        "            'language': 'unknown',\n",
        "            'total_length': len(text),\n",
        "            'num_sentences': 0,\n",
        "            'num_tokens': 0,\n",
        "            'avg_token_length': 0,\n",
        "            'punctuation_count': 0,\n",
        "            'uppercase_ratio': 0,\n",
        "            'spaces_ratio': 0,\n",
        "            'digits_ratio': 0\n",
        "        }\n",
        "\n",
        "    return stats\n",
        "\n",
        "def analyze_multilingual_dataset(df):\n",
        "    \"\"\"Analyze entire multilingual dataset.\"\"\"\n",
        "    all_stats = []\n",
        "    language_distribution = defaultdict(int)\n",
        "\n",
        "    for text in tqdm(df['Text'], desc='Analyzing texts'):\n",
        "        stats = get_multilingual_text_statistics(text)\n",
        "        all_stats.append(stats)\n",
        "        language_distribution[stats['language']] += 1\n",
        "\n",
        "    stats_df = pd.DataFrame(all_stats)\n",
        "\n",
        "    # print language distribution\n",
        "    print(\"\\nLanguage Distribution:\")\n",
        "    for lang, count in language_distribution.items():\n",
        "        print(f\"{lang}: {count} texts ({count/len(df)*100:.2f}%)\")\n",
        "\n",
        "    return stats_df"
      ],
      "metadata": {
        "id": "QbPxbUWh5ulA"
      },
      "execution_count": 14,
      "outputs": []
    },
    {
      "cell_type": "markdown",
      "source": [
        "**defines a custom classifier class. it utilizes the \"xlm-roberta-base\" model for sequence classification and is customized for binary classification**"
      ],
      "metadata": {
        "id": "U9EYLd1fQqd2"
      }
    },
    {
      "cell_type": "code",
      "source": [
        "class CustomClassifier(nn.Module):\n",
        "    def __init__(self):\n",
        "        super(CustomClassifier, self).__init__()\n",
        "\n",
        "        self.roberta = AutoModelForSequenceClassification.from_pretrained(\n",
        "            \"xlm-roberta-base\",\n",
        "            num_labels=2,\n",
        "            problem_type=\"single_label_classification\",\n",
        "            hidden_dropout_prob=0.1,\n",
        "            attention_probs_dropout_prob=0.1\n",
        "        )\n",
        "\n",
        "    def forward(self, input_ids, attention_mask, labels=None):\n",
        "        outputs = self.roberta(input_ids=input_ids, attention_mask=attention_mask, labels=labels)\n",
        "        return outputs.loss, outputs.logits if labels is not None else outputs.logits"
      ],
      "metadata": {
        "id": "t7_2NlEQwEED"
      },
      "execution_count": 15,
      "outputs": []
    },
    {
      "cell_type": "markdown",
      "source": [
        "**defines a custom dataset class to handle text data and labels. it tokenizes the text using the tokenizer and prepares the data for the model**"
      ],
      "metadata": {
        "id": "2xXQZ3ovRE4v"
      }
    },
    {
      "cell_type": "code",
      "source": [
        "class TextDataset(torch.utils.data.Dataset):\n",
        "    def __init__(self, texts, labels=None):\n",
        "        \"\"\"\n",
        "        Prameters:\n",
        "        texts: list of texts for classification\n",
        "        labels: labels 0 for human text, 1 for machine text and none for test.\n",
        "        \"\"\"\n",
        "        self.texts = texts # list of texts\n",
        "\n",
        "        # list of lables for training dataset 0 - human generated 1 - AI generated\n",
        "        # deafult option 'None' for test dataset\n",
        "        self.labels = labels\n",
        "\n",
        "    def __len__(self):\n",
        "        \"\"\"\n",
        "        returns the number of samples in the dataset (required for pytorch Dataset object)\n",
        "        \"\"\"\n",
        "        return len(self.texts)\n",
        "\n",
        "    def __getitem__(self, idx):\n",
        "        \"\"\"\n",
        "        returns a specific example by index\n",
        "        the method is called by PyTorch's DataLoader to get each batch item\n",
        "\n",
        "        Parameters:\n",
        "        idx: index of the desired example\n",
        "\n",
        "        returns:\n",
        "        dictionary with encoded text information and label (for train dataset)\n",
        "        \"\"\"\n",
        "        # get the specific text from the list\n",
        "        text = self.texts[idx]\n",
        "\n",
        "        # encode the text using the tokenizer\n",
        "        encoding = tokenizer(\n",
        "            text,\n",
        "            truncation=True,           # cut off texts that are too long\n",
        "            max_length=MAX_LENGTH,            # maximum length of text\n",
        "            padding='max_length',      # pad shorter texts to max_length\n",
        "            return_tensors='pt'        # return pytorch tensors\n",
        "        )\n",
        "\n",
        "        # remove the extra dimension added by return_tensors='pt'\n",
        "        # this converts tensors from shape [1, seq_len] to [seq_len]\n",
        "        item = {key: val.squeeze(0) for key, val in encoding.items()}\n",
        "\n",
        "        # add label to the item if it exists (for training data)\n",
        "        if self.labels is not None:\n",
        "            item['labels'] = torch.tensor(self.labels[idx])\n",
        "\n",
        "        return item"
      ],
      "metadata": {
        "id": "Ejvg90-txNTR"
      },
      "execution_count": 16,
      "outputs": []
    },
    {
      "cell_type": "markdown",
      "source": [
        "**loads the training and testing data, maps labels, splits the training data into training and validation sets, and creates dataset objects using the custom TextDataset class**"
      ],
      "metadata": {
        "id": "qRKxZcd_RXFM"
      }
    },
    {
      "cell_type": "code",
      "source": [
        "def prepare_data():\n",
        "    # reading data\n",
        "    train_df = pd.read_csv('dev.csv')\n",
        "    test_df = pd.read_csv('test.csv')\n",
        "\n",
        "    # label convertion\n",
        "    label_map = {'H': 0, 'M': 1}\n",
        "    train_df['label'] = train_df['Class'].map(label_map)\n",
        "\n",
        "    # train_test_split\n",
        "    train_texts, val_texts, train_labels, val_labels = train_test_split(\n",
        "        train_df['Text'].tolist(),\n",
        "        train_df['label'].tolist(),\n",
        "        test_size=0.1,\n",
        "        random_state=42\n",
        "    )\n",
        "\n",
        "    # creating datasets\n",
        "    train_dataset = TextDataset(train_texts, train_labels)\n",
        "    val_dataset = TextDataset(val_texts, val_labels)\n",
        "    test_dataset = TextDataset(test_df['Text'].tolist())\n",
        "\n",
        "    return train_dataset, val_dataset, test_dataset, test_df"
      ],
      "metadata": {
        "id": "m_OydGy8UGt0"
      },
      "execution_count": 17,
      "outputs": []
    },
    {
      "cell_type": "markdown",
      "source": [
        "**trains and evaluates classical machine learning models (Random Forest, Logistic Regression, SVM-Linear) using TF-IDF features extracted from the text data.**"
      ],
      "metadata": {
        "id": "zCb88Mi9Rnt3"
      }
    },
    {
      "cell_type": "code",
      "source": [
        "def train_multilingual_models(X_train, X_test, y_train, y_test):\n",
        "    \"\"\"train and evaluate models suitable for multilingual text.\"\"\"\n",
        "    # TF-IDF with character n-grams (works better for multiple languages)\n",
        "    vectorizer = TfidfVectorizer(\n",
        "        analyzer='char',\n",
        "        ngram_range=(3, 5),\n",
        "        max_features=10000\n",
        "    )\n",
        "\n",
        "    X_train_tfidf = vectorizer.fit_transform(X_train)\n",
        "    X_test_tfidf = vectorizer.transform(X_test)\n",
        "\n",
        "    models = {\n",
        "        'Random Forest': RandomForestClassifier(n_estimators=100),\n",
        "        'Logistic Regression': LogisticRegression(max_iter=1000),\n",
        "        'SVM-Linear': LinearSVC(max_iter=1000)\n",
        "    }\n",
        "\n",
        "    results = {}\n",
        "    for name, model in models.items():\n",
        "        print(f\"\\nTraining {name}...\")\n",
        "        start_time = time.time()\n",
        "        model.fit(X_train_tfidf, y_train)\n",
        "        train_time = time.time() - start_time\n",
        "\n",
        "        start_time = time.time()\n",
        "        predictions = model.predict(X_test_tfidf)\n",
        "        inference_time = time.time() - start_time\n",
        "\n",
        "        accuracy = accuracy_score(y_test, predictions)\n",
        "\n",
        "        results[name] = {\n",
        "            'accuracy': accuracy,\n",
        "            'training_time': train_time,\n",
        "            'inference_time': inference_time,\n",
        "            'classification_report': classification_report(y_test, predictions)\n",
        "        }\n",
        "\n",
        "        print(f\"{name} Results:\")\n",
        "        print(f\"Accuracy: {accuracy:.4f}\")\n",
        "        print(f\"Training Time: {train_time:.2f} seconds\")\n",
        "        print(\"Classification Report:\")\n",
        "        print(results[name]['classification_report'])\n",
        "\n",
        "    return results, vectorizer\n",
        "\n",
        "def plot_multilingual_statistics(stats_df, labels):\n",
        "    \"\"\"create visualizations for multilingual text statistics.\"\"\"\n",
        "    # language distribution pie chart\n",
        "    plt.figure(figsize=(12, 6))\n",
        "    lang_counts = stats_df['language'].value_counts()\n",
        "    plt.pie(lang_counts.values, labels=lang_counts.index, autopct='%1.1f%%')\n",
        "    plt.title('Distribution of Languages in Dataset')\n",
        "    plt.show()\n",
        "\n",
        "    # box plots for numerical features\n",
        "    numerical_cols = ['total_length', 'num_tokens', 'avg_token_length',\n",
        "                     'punctuation_count', 'uppercase_ratio', 'digits_ratio']\n",
        "\n",
        "    fig, axes = plt.subplots(2, 3, figsize=(15, 10))\n",
        "    axes = axes.ravel()\n",
        "\n",
        "    for i, col in enumerate(numerical_cols):\n",
        "        sns.boxplot(x=labels, y=stats_df[col], ax=axes[i])\n",
        "        axes[i].set_title(col.replace('_', ' ').title())\n",
        "\n",
        "    plt.tight_layout()\n",
        "    plt.show()"
      ],
      "metadata": {
        "id": "GqOc6oQJ9t2X"
      },
      "execution_count": 18,
      "outputs": []
    },
    {
      "cell_type": "markdown",
      "source": [
        "**trains the model for one epoch, calculating loss and accuracy for the training data.**"
      ],
      "metadata": {
        "id": "DEbQoh6uTTF1"
      }
    },
    {
      "cell_type": "code",
      "source": [
        "def train_one_epoch(model, train_loader, optimizer):\n",
        "    model.train()\n",
        "    total_loss = 0\n",
        "    all_preds = []\n",
        "    all_labels = []\n",
        "\n",
        "    progress_bar = tqdm(train_loader, desc='Training')\n",
        "    for batch in progress_bar:\n",
        "        batch = {k: v.to(DEVICE) for k, v in batch.items()}\n",
        "\n",
        "        optimizer.zero_grad()\n",
        "\n",
        "        outputs = model(\n",
        "            input_ids=batch['input_ids'],\n",
        "            attention_mask=batch['attention_mask'],\n",
        "            labels=batch['labels']\n",
        "        )\n",
        "        loss = outputs[0]\n",
        "        logits = outputs[1]\n",
        "\n",
        "        loss.backward()\n",
        "        optimizer.step()\n",
        "\n",
        "        total_loss += loss.item()\n",
        "        preds = torch.argmax(logits, dim=1)\n",
        "        all_preds.extend(preds.cpu().numpy())\n",
        "        all_labels.extend(batch['labels'].cpu().numpy())\n",
        "\n",
        "        progress_bar.set_postfix({'loss': loss.item()})\n",
        "\n",
        "    avg_loss = total_loss / len(train_loader)\n",
        "    accuracy = accuracy_score(all_labels, all_preds)\n",
        "\n",
        "    return avg_loss, accuracy"
      ],
      "metadata": {
        "id": "-fh4gZyfUU3H"
      },
      "execution_count": 19,
      "outputs": []
    },
    {
      "cell_type": "markdown",
      "source": [
        "**evaluate the model performance on the validation data, calculating loss and accuracy.**"
      ],
      "metadata": {
        "id": "_z6oLhMyToh5"
      }
    },
    {
      "cell_type": "code",
      "source": [
        "def evaluate(model, val_loader):\n",
        "    model.eval()\n",
        "    total_loss = 0\n",
        "    all_preds = []\n",
        "    all_labels = []\n",
        "\n",
        "    with torch.no_grad():\n",
        "        for batch in val_loader:\n",
        "            batch = {k: v.to(DEVICE) for k, v in batch.items()}\n",
        "\n",
        "            outputs = model(\n",
        "                input_ids=batch['input_ids'],\n",
        "                attention_mask=batch['attention_mask'],\n",
        "                labels=batch['labels']\n",
        "            )\n",
        "            loss = outputs[0]\n",
        "            logits = outputs[1]\n",
        "\n",
        "            total_loss += loss.item()\n",
        "            preds = torch.argmax(logits, dim=1)\n",
        "            all_preds.extend(preds.cpu().numpy())\n",
        "            all_labels.extend(batch['labels'].cpu().numpy())\n",
        "\n",
        "    avg_loss = total_loss / len(val_loader)\n",
        "    accuracy = accuracy_score(all_labels, all_preds)\n",
        "    return avg_loss, accuracy, all_preds, all_labels\n"
      ],
      "metadata": {
        "id": "WzriOwmBah74"
      },
      "execution_count": 20,
      "outputs": []
    },
    {
      "cell_type": "markdown",
      "source": [
        "**generates predictions on the test data using the trained model and saves the predictions to a CSV file for submission**"
      ],
      "metadata": {
        "id": "F4FQSNCqT_6R"
      }
    },
    {
      "cell_type": "code",
      "source": [
        "def prepare_submission(model, test_dataset, test_df):\n",
        "    test_loader = DataLoader(test_dataset, batch_size=BATCH_SIZE)\n",
        "    model.eval()\n",
        "    predictions = []\n",
        "\n",
        "    with torch.no_grad():\n",
        "        for batch in tqdm(test_loader, desc='Generating predictions'):\n",
        "            batch = {k: v.to(DEVICE) for k, v in batch.items()}\n",
        "\n",
        "            outputs = model(\n",
        "                input_ids=batch['input_ids'],\n",
        "                attention_mask=batch['attention_mask']\n",
        "            )\n",
        "\n",
        "            preds = torch.argmax(outputs[1], dim=1)\n",
        "            predictions.extend(preds.cpu().numpy())\n",
        "\n",
        "    pred_labels = ['H' if p == 0 else 'M' for p in predictions]\n",
        "\n",
        "    submission_df = pd.DataFrame({\n",
        "        'ID': test_df['ID'],\n",
        "        'Class': pred_labels\n",
        "    })\n",
        "\n",
        "    submission_df.to_csv('submission.csv', index=False)\n",
        "    return submission_df"
      ],
      "metadata": {
        "id": "ju-nX0KDajSF"
      },
      "execution_count": 21,
      "outputs": []
    },
    {
      "cell_type": "markdown",
      "source": [
        "defines two functions for visualization: plot_training_curves to plot the training and validation loss and accuracy over epochs, and plot_confusion_matrix to visualize the confusion matrix"
      ],
      "metadata": {
        "id": "EPg5m8ieUKBL"
      }
    },
    {
      "cell_type": "code",
      "source": [
        "# visualization\n",
        "def plot_training_curves(train_losses, val_losses, train_accuracies, val_accuracies):\n",
        "    plt.figure(figsize=(15, 5))\n",
        "\n",
        "    plt.subplot(1, 2, 1)\n",
        "    plt.plot(train_losses, 'b-', label='Train Loss')\n",
        "    plt.plot(val_losses, 'r-', label='Val Loss')\n",
        "    plt.title('Loss over time')\n",
        "    plt.xlabel('Epoch')\n",
        "    plt.ylabel('Loss')\n",
        "    plt.legend()\n",
        "\n",
        "    plt.subplot(1, 2, 2)\n",
        "    plt.plot(train_accuracies, 'b-', label='Train Accuracy')\n",
        "    plt.plot(val_accuracies, 'r-', label='Val Accuracy')\n",
        "    plt.title('Accuracy over time')\n",
        "    plt.xlabel('Epoch')\n",
        "    plt.ylabel('Accuracy')\n",
        "    plt.legend()\n",
        "\n",
        "    plt.tight_layout()\n",
        "    plt.show()\n",
        "\n",
        "def plot_confusion_matrix(model, val_loader):\n",
        "    _, _, preds, labels = evaluate(model, val_loader)\n",
        "    cm = confusion_matrix(labels, preds)\n",
        "\n",
        "    plt.figure(figsize=(8, 6))\n",
        "    sns.heatmap(cm, annot=True, fmt='d', cmap='Blues')\n",
        "    plt.title('Confusion Matrix')\n",
        "    plt.xlabel('Predicted')\n",
        "    plt.ylabel('Actual')\n",
        "    plt.show()\n"
      ],
      "metadata": {
        "id": "j49b-auMcydZ"
      },
      "execution_count": 22,
      "outputs": []
    },
    {
      "cell_type": "markdown",
      "source": [
        "**orchestrates the entire process: loading data, analyzing text statistics, training and evaluating models, and preparing the submission file.**"
      ],
      "metadata": {
        "id": "wbWDOSfHUSyB"
      }
    },
    {
      "cell_type": "code",
      "source": [
        "def main():\n",
        "    print(\"loading and preparing data...\")\n",
        "    train_df = pd.read_csv('dev.csv')\n",
        "    test_df = pd.read_csv('test.csv')\n",
        "\n",
        "    print(\"\\nanalyzing text statistics...\")\n",
        "    stats_df = analyze_multilingual_dataset(train_df)\n",
        "    plot_multilingual_statistics(stats_df, train_df['Class'])\n",
        "\n",
        "    print(\"\\npreparing for model comparison...\")\n",
        "    X = train_df['Text']\n",
        "    y = (train_df['Class'] == 'M').astype(int)\n",
        "\n",
        "    X_train, X_test, y_train, y_test = train_test_split(X, y, test_size=0.1, random_state=42)\n",
        "\n",
        "    # train and evaluate classical models\n",
        "    print(\"\\ntraining classical models...\")\n",
        "    classical_results, vectorizer = train_multilingual_models(X_train, X_test, y_train, y_test)\n",
        "\n",
        "    # deep Learning model training\n",
        "    print(\"\\npreparing deep learning training...\")\n",
        "    train_dataset, val_dataset, test_dataset, test_df = prepare_data()\n",
        "\n",
        "    train_loader = DataLoader(train_dataset, batch_size=BATCH_SIZE, shuffle=True)\n",
        "    val_loader = DataLoader(val_dataset, batch_size=BATCH_SIZE)\n",
        "\n",
        "    model = CustomClassifier().to(DEVICE)\n",
        "    optimizer = torch.optim.AdamW(model.parameters(), lr=LEARNING_RATE, weight_decay=0.01)\n",
        "    scheduler = ReduceLROnPlateau(optimizer, mode='max', factor=0.5, patience=2, verbose=True)\n",
        "\n",
        "    print(\"\\nstarting deep learning training...\")\n",
        "    dl_start_time = time.time()\n",
        "    best_val_accuracy = 0\n",
        "    train_losses, val_losses = [], []\n",
        "    train_accuracies, val_accuracies = [], []\n",
        "\n",
        "    for epoch in range(NUM_EPOCHS):\n",
        "        print(f'\\nepoch {epoch + 1}/{NUM_EPOCHS}')\n",
        "\n",
        "        train_loss, train_accuracy = train_one_epoch(model, train_loader, optimizer)\n",
        "        val_loss, val_accuracy, _, _ = evaluate(model, val_loader)\n",
        "\n",
        "        scheduler.step(val_accuracy)\n",
        "\n",
        "        train_losses.append(train_loss)\n",
        "        val_losses.append(val_loss)\n",
        "        train_accuracies.append(train_accuracy)\n",
        "        val_accuracies.append(val_accuracy)\n",
        "\n",
        "        current_lr = optimizer.param_groups[0]['lr']\n",
        "        print(f'train loss: {train_loss:.4f}, train accuracy: {train_accuracy:.4f}')\n",
        "        print(f'val loss: {val_loss:.4f}, val accuracy: {val_accuracy:.4f}')\n",
        "        print(f'current learning rate: {current_lr:.2e}')\n",
        "\n",
        "        if val_accuracy > best_val_accuracy:\n",
        "            best_val_accuracy = val_accuracy\n",
        "            torch.save(model.state_dict(), 'best_model.pt')\n",
        "            print(f'saving new model! accuracy: {val_accuracy:.4f}')\n",
        "\n",
        "    dl_training_time = time.time() - dl_start_time\n",
        "\n",
        "    print(\"\\nPreparing submission...\")\n",
        "    submission_df = prepare_submission(model, test_dataset, test_df)\n",
        "    print(\"Submission ready!\")\n",
        "\n",
        "    # print final comparison\n",
        "    print(\"\\nfinal results comparison:\")\n",
        "    print(\"\\nclassical models:\")\n",
        "    for name, results in classical_results.items():\n",
        "        print(f\"\\n{name}:\")\n",
        "        print(f\"accuracy: {results['accuracy']:.4f}\")\n",
        "        print(f\"training Time: {results['training_time']:.2f} seconds\")\n",
        "        print(f\"inference Time: {results['inference_time']:.2f} seconds\")\n",
        "\n",
        "    print(\"\\ndeep learning model:\")\n",
        "    print(f\"best validation accuracy: {best_val_accuracy:.4f}\")\n",
        "    print(f\"total training time: {dl_training_time:.2f} seconds\")\n",
        "\n",
        "    return model, submission_df, (train_losses, val_losses, train_accuracies, val_accuracies), val_dataset, classical_results, stats_df"
      ],
      "metadata": {
        "id": "u7WAQfj0akN8"
      },
      "execution_count": 23,
      "outputs": []
    },
    {
      "cell_type": "markdown",
      "source": [
        "**executes the main function main when the script is running. it also calls the visualization functions to display training curves and the confusion matrix.**"
      ],
      "metadata": {
        "id": "PfS-B-6BUcK3"
      }
    },
    {
      "cell_type": "code",
      "source": [
        "if __name__ == \"__main__\":\n",
        "    model, submission_df, metrics, val_dataset, classical_results, stats_df = main()\n",
        "\n",
        "    train_losses, val_losses, train_accuracies, val_accuracies = metrics\n",
        "    plot_training_curves(train_losses, val_losses, train_accuracies, val_accuracies)\n",
        "\n",
        "    val_loader = DataLoader(val_dataset, batch_size=BATCH_SIZE)\n",
        "    plot_confusion_matrix(model, val_loader)"
      ],
      "metadata": {
        "colab": {
          "base_uri": "https://localhost:8080/",
          "height": 1000,
          "referenced_widgets": [
            "c470817dcda84666b63630e6085e0b55",
            "31f0a6e9639f4e8b849d43ac74d5a039",
            "8af73c1ed3aa418ca1c6b7444bb1a60e",
            "5cb094da23fa499c9ffeae86153ca68c",
            "5ddd90c986c9436a9917103379222159",
            "8ab951e4d1814a4bb77b7db5e5e77541",
            "a8a579f21c1f4f79ad1a3d1a4ce14afa",
            "4a45adc8d6974f328782ad840dda1918",
            "a0b4dd86f711455ba066fc716c8be6b9",
            "ee27be7a2e3e49c2ba2278396bb63791",
            "a4843d0d3fa6492c9f600b5a69a06d2e"
          ]
        },
        "id": "nfX_tbUwakQn",
        "outputId": "32463ee5-6cfa-42e0-e70f-0022a04266c8"
      },
      "execution_count": 24,
      "outputs": [
        {
          "output_type": "stream",
          "name": "stdout",
          "text": [
            "loading and preparing data...\n",
            "\n",
            "analyzing text statistics...\n"
          ]
        },
        {
          "output_type": "stream",
          "name": "stderr",
          "text": [
            "Analyzing texts: 100%|██████████| 810/810 [00:05<00:00, 153.06it/s]\n"
          ]
        },
        {
          "output_type": "stream",
          "name": "stdout",
          "text": [
            "\n",
            "Language Distribution:\n",
            "uk: 12 texts (1.48%)\n",
            "nl: 49 texts (6.05%)\n",
            "id: 72 texts (8.89%)\n",
            "ur: 63 texts (7.78%)\n",
            "hi: 67 texts (8.27%)\n",
            "en: 9 texts (1.11%)\n",
            "es: 56 texts (6.91%)\n",
            "ja: 53 texts (6.54%)\n",
            "zh-cn: 67 texts (8.27%)\n",
            "vi: 69 texts (8.52%)\n",
            "ru: 110 texts (13.58%)\n",
            "he: 18 texts (2.22%)\n",
            "it: 59 texts (7.28%)\n",
            "no: 29 texts (3.58%)\n",
            "ar: 48 texts (5.93%)\n",
            "de: 28 texts (3.46%)\n",
            "sv: 1 texts (0.12%)\n"
          ]
        },
        {
          "output_type": "display_data",
          "data": {
            "text/plain": [
              "<Figure size 1200x600 with 1 Axes>"
            ],
            "image/png": "[encoded data removed]"
          },
          "metadata": {}
        },
        {
          "output_type": "display_data",
          "data": {
            "text/plain": [
              "<Figure size 1500x1000 with 6 Axes>"
            ],
            "image/png": "[encoded data removed]"
          },
          "metadata": {}
        },
        {
          "output_type": "stream",
          "name": "stdout",
          "text": [
            "\n",
            "preparing for model comparison...\n",
            "\n",
            "training classical models...\n",
            "\n",
            "Training Random Forest...\n",
            "Random Forest Results:\n",
            "Accuracy: 0.7901\n",
            "Training Time: 1.30 seconds\n",
            "Classification Report:\n",
            "              precision    recall  f1-score   support\n",
            "\n",
            "           0       0.72      0.89      0.80        38\n",
            "           1       0.88      0.70      0.78        43\n",
            "\n",
            "    accuracy                           0.79        81\n",
            "   macro avg       0.80      0.80      0.79        81\n",
            "weighted avg       0.81      0.79      0.79        81\n",
            "\n",
            "\n",
            "Training Logistic Regression...\n",
            "Logistic Regression Results:\n",
            "Accuracy: 0.7284\n",
            "Training Time: 0.04 seconds\n",
            "Classification Report:\n",
            "              precision    recall  f1-score   support\n",
            "\n",
            "           0       0.65      0.89      0.76        38\n",
            "           1       0.86      0.58      0.69        43\n",
            "\n",
            "    accuracy                           0.73        81\n",
            "   macro avg       0.76      0.74      0.72        81\n",
            "weighted avg       0.76      0.73      0.72        81\n",
            "\n",
            "\n",
            "Training SVM-Linear...\n",
            "SVM-Linear Results:\n",
            "Accuracy: 0.8148\n",
            "Training Time: 0.04 seconds\n",
            "Classification Report:\n",
            "              precision    recall  f1-score   support\n",
            "\n",
            "           0       0.73      0.95      0.83        38\n",
            "           1       0.94      0.70      0.80        43\n",
            "\n",
            "    accuracy                           0.81        81\n",
            "   macro avg       0.84      0.82      0.81        81\n",
            "weighted avg       0.84      0.81      0.81        81\n",
            "\n",
            "\n",
            "preparing deep learning training...\n"
          ]
        },
        {
          "output_type": "stream",
          "name": "stderr",
          "text": [
            "Xet Storage is enabled for this repo, but the 'hf_xet' package is not installed. Falling back to regular HTTP download. For better performance, install the package with: `pip install huggingface_hub[hf_xet]` or `pip install hf_xet`\n",
            "WARNING:huggingface_hub.file_download:Xet Storage is enabled for this repo, but the 'hf_xet' package is not installed. Falling back to regular HTTP download. For better performance, install the package with: `pip install huggingface_hub[hf_xet]` or `pip install hf_xet`\n"
          ]
        },
        {
          "output_type": "display_data",
          "data": {
            "text/plain": [
              "model.safetensors:   0%|          | 0.00/1.12G [00:00<?, ?B/s]"
            ],
            "application/vnd.jupyter.widget-view+json": {
              "version_major": 2,
              "version_minor": 0,
              "model_id": "c470817dcda84666b63630e6085e0b55"
            }
          },
          "metadata": {}
        },
        {
          "output_type": "stream",
          "name": "stderr",
          "text": [
            "Some weights of XLMRobertaForSequenceClassification were not initialized from the model checkpoint at xlm-roberta-base and are newly initialized: ['classifier.dense.bias', 'classifier.dense.weight', 'classifier.out_proj.bias', 'classifier.out_proj.weight']\n",
            "You should probably TRAIN this model on a down-stream task to be able to use it for predictions and inference.\n"
          ]
        },
        {
          "output_type": "stream",
          "name": "stdout",
          "text": [
            "\n",
            "starting deep learning training...\n",
            "\n",
            "epoch 1/25\n"
          ]
        },
        {
          "output_type": "stream",
          "name": "stderr",
          "text": [
            "Training: 100%|██████████| 23/23 [00:17<00:00,  1.33it/s, loss=0.677]\n"
          ]
        },
        {
          "output_type": "stream",
          "name": "stdout",
          "text": [
            "train loss: 0.6910, train accuracy: 0.5514\n",
            "val loss: 0.6902, val accuracy: 0.5185\n",
            "current learning rate: 1.00e-05\n",
            "saving new model! accuracy: 0.5185\n",
            "\n",
            "epoch 2/25\n"
          ]
        },
        {
          "output_type": "stream",
          "name": "stderr",
          "text": [
            "Training: 100%|██████████| 23/23 [00:16<00:00,  1.38it/s, loss=0.656]\n"
          ]
        },
        {
          "output_type": "stream",
          "name": "stdout",
          "text": [
            "train loss: 0.6734, train accuracy: 0.5638\n",
            "val loss: 0.6746, val accuracy: 0.5556\n",
            "current learning rate: 1.00e-05\n",
            "saving new model! accuracy: 0.5556\n",
            "\n",
            "epoch 3/25\n"
          ]
        },
        {
          "output_type": "stream",
          "name": "stderr",
          "text": [
            "Training: 100%|██████████| 23/23 [00:16<00:00,  1.37it/s, loss=0.44]\n"
          ]
        },
        {
          "output_type": "stream",
          "name": "stdout",
          "text": [
            "train loss: 0.6027, train accuracy: 0.6996\n",
            "val loss: 0.6228, val accuracy: 0.6914\n",
            "current learning rate: 1.00e-05\n",
            "saving new model! accuracy: 0.6914\n",
            "\n",
            "epoch 4/25\n"
          ]
        },
        {
          "output_type": "stream",
          "name": "stderr",
          "text": [
            "Training: 100%|██████████| 23/23 [00:17<00:00,  1.34it/s, loss=0.32]\n"
          ]
        },
        {
          "output_type": "stream",
          "name": "stdout",
          "text": [
            "train loss: 0.4482, train accuracy: 0.8107\n",
            "val loss: 0.6451, val accuracy: 0.6790\n",
            "current learning rate: 1.00e-05\n",
            "\n",
            "epoch 5/25\n"
          ]
        },
        {
          "output_type": "stream",
          "name": "stderr",
          "text": [
            "Training: 100%|██████████| 23/23 [00:17<00:00,  1.33it/s, loss=0.499]\n"
          ]
        },
        {
          "output_type": "stream",
          "name": "stdout",
          "text": [
            "train loss: 0.3013, train accuracy: 0.8875\n",
            "val loss: 0.7195, val accuracy: 0.6914\n",
            "current learning rate: 1.00e-05\n",
            "\n",
            "epoch 6/25\n"
          ]
        },
        {
          "output_type": "stream",
          "name": "stderr",
          "text": [
            "Training: 100%|██████████| 23/23 [00:17<00:00,  1.31it/s, loss=0.125]\n"
          ]
        },
        {
          "output_type": "stream",
          "name": "stdout",
          "text": [
            "train loss: 0.1847, train accuracy: 0.9561\n",
            "val loss: 0.8183, val accuracy: 0.6914\n",
            "current learning rate: 5.00e-06\n",
            "\n",
            "epoch 7/25\n"
          ]
        },
        {
          "output_type": "stream",
          "name": "stderr",
          "text": [
            "Training: 100%|██████████| 23/23 [00:17<00:00,  1.29it/s, loss=0.0469]\n"
          ]
        },
        {
          "output_type": "stream",
          "name": "stdout",
          "text": [
            "train loss: 0.1206, train accuracy: 0.9726\n",
            "val loss: 0.8359, val accuracy: 0.7407\n",
            "current learning rate: 5.00e-06\n",
            "saving new model! accuracy: 0.7407\n",
            "\n",
            "epoch 8/25\n"
          ]
        },
        {
          "output_type": "stream",
          "name": "stderr",
          "text": [
            "Training: 100%|██████████| 23/23 [00:17<00:00,  1.31it/s, loss=0.0651]\n"
          ]
        },
        {
          "output_type": "stream",
          "name": "stdout",
          "text": [
            "train loss: 0.0737, train accuracy: 0.9822\n",
            "val loss: 0.8513, val accuracy: 0.7901\n",
            "current learning rate: 5.00e-06\n",
            "saving new model! accuracy: 0.7901\n",
            "\n",
            "epoch 9/25\n"
          ]
        },
        {
          "output_type": "stream",
          "name": "stderr",
          "text": [
            "Training: 100%|██████████| 23/23 [00:17<00:00,  1.29it/s, loss=0.0596]\n"
          ]
        },
        {
          "output_type": "stream",
          "name": "stdout",
          "text": [
            "train loss: 0.0649, train accuracy: 0.9822\n",
            "val loss: 0.9213, val accuracy: 0.7654\n",
            "current learning rate: 5.00e-06\n",
            "\n",
            "epoch 10/25\n"
          ]
        },
        {
          "output_type": "stream",
          "name": "stderr",
          "text": [
            "Training: 100%|██████████| 23/23 [00:18<00:00,  1.28it/s, loss=0.00711]\n"
          ]
        },
        {
          "output_type": "stream",
          "name": "stdout",
          "text": [
            "train loss: 0.0456, train accuracy: 0.9959\n",
            "val loss: 1.0777, val accuracy: 0.7284\n",
            "current learning rate: 5.00e-06\n",
            "\n",
            "epoch 11/25\n"
          ]
        },
        {
          "output_type": "stream",
          "name": "stderr",
          "text": [
            "Training: 100%|██████████| 23/23 [00:17<00:00,  1.31it/s, loss=0.0202]\n"
          ]
        },
        {
          "output_type": "stream",
          "name": "stdout",
          "text": [
            "train loss: 0.0425, train accuracy: 0.9945\n",
            "val loss: 1.2351, val accuracy: 0.7407\n",
            "current learning rate: 2.50e-06\n",
            "\n",
            "epoch 12/25\n"
          ]
        },
        {
          "output_type": "stream",
          "name": "stderr",
          "text": [
            "Training: 100%|██████████| 23/23 [00:17<00:00,  1.32it/s, loss=0.0166]\n"
          ]
        },
        {
          "output_type": "stream",
          "name": "stdout",
          "text": [
            "train loss: 0.0371, train accuracy: 0.9973\n",
            "val loss: 1.0380, val accuracy: 0.8025\n",
            "current learning rate: 2.50e-06\n",
            "saving new model! accuracy: 0.8025\n",
            "\n",
            "epoch 13/25\n"
          ]
        },
        {
          "output_type": "stream",
          "name": "stderr",
          "text": [
            "Training: 100%|██████████| 23/23 [00:17<00:00,  1.31it/s, loss=0.0114]\n"
          ]
        },
        {
          "output_type": "stream",
          "name": "stdout",
          "text": [
            "train loss: 0.0197, train accuracy: 0.9986\n",
            "val loss: 1.2652, val accuracy: 0.7531\n",
            "current learning rate: 2.50e-06\n",
            "\n",
            "epoch 14/25\n"
          ]
        },
        {
          "output_type": "stream",
          "name": "stderr",
          "text": [
            "Training: 100%|██████████| 23/23 [00:17<00:00,  1.28it/s, loss=0.0409]\n"
          ]
        },
        {
          "output_type": "stream",
          "name": "stdout",
          "text": [
            "train loss: 0.0212, train accuracy: 0.9986\n",
            "val loss: 1.3050, val accuracy: 0.7531\n",
            "current learning rate: 2.50e-06\n",
            "\n",
            "epoch 15/25\n"
          ]
        },
        {
          "output_type": "stream",
          "name": "stderr",
          "text": [
            "Training: 100%|██████████| 23/23 [00:18<00:00,  1.28it/s, loss=0.02]\n"
          ]
        },
        {
          "output_type": "stream",
          "name": "stdout",
          "text": [
            "train loss: 0.0285, train accuracy: 0.9945\n",
            "val loss: 1.1170, val accuracy: 0.7901\n",
            "current learning rate: 1.25e-06\n",
            "\n",
            "epoch 16/25\n"
          ]
        },
        {
          "output_type": "stream",
          "name": "stderr",
          "text": [
            "Training: 100%|██████████| 23/23 [00:17<00:00,  1.32it/s, loss=0.00617]\n"
          ]
        },
        {
          "output_type": "stream",
          "name": "stdout",
          "text": [
            "train loss: 0.0178, train accuracy: 0.9973\n",
            "val loss: 1.3348, val accuracy: 0.7531\n",
            "current learning rate: 1.25e-06\n",
            "\n",
            "epoch 17/25\n"
          ]
        },
        {
          "output_type": "stream",
          "name": "stderr",
          "text": [
            "Training: 100%|██████████| 23/23 [00:17<00:00,  1.32it/s, loss=0.0273]\n"
          ]
        },
        {
          "output_type": "stream",
          "name": "stdout",
          "text": [
            "train loss: 0.0162, train accuracy: 0.9973\n",
            "val loss: 1.5228, val accuracy: 0.7160\n",
            "current learning rate: 1.25e-06\n",
            "\n",
            "epoch 18/25\n"
          ]
        },
        {
          "output_type": "stream",
          "name": "stderr",
          "text": [
            "Training: 100%|██████████| 23/23 [00:17<00:00,  1.32it/s, loss=0.00317]\n"
          ]
        },
        {
          "output_type": "stream",
          "name": "stdout",
          "text": [
            "train loss: 0.0171, train accuracy: 0.9986\n",
            "val loss: 1.3762, val accuracy: 0.7531\n",
            "current learning rate: 6.25e-07\n",
            "\n",
            "epoch 19/25\n"
          ]
        },
        {
          "output_type": "stream",
          "name": "stderr",
          "text": [
            "Training: 100%|██████████| 23/23 [00:17<00:00,  1.30it/s, loss=0.00482]\n"
          ]
        },
        {
          "output_type": "stream",
          "name": "stdout",
          "text": [
            "train loss: 0.0195, train accuracy: 0.9973\n",
            "val loss: 1.4722, val accuracy: 0.7407\n",
            "current learning rate: 6.25e-07\n",
            "\n",
            "epoch 20/25\n"
          ]
        },
        {
          "output_type": "stream",
          "name": "stderr",
          "text": [
            "Training: 100%|██████████| 23/23 [00:17<00:00,  1.30it/s, loss=0.0285]\n"
          ]
        },
        {
          "output_type": "stream",
          "name": "stdout",
          "text": [
            "train loss: 0.0194, train accuracy: 0.9959\n",
            "val loss: 1.4848, val accuracy: 0.7284\n",
            "current learning rate: 6.25e-07\n",
            "\n",
            "epoch 21/25\n"
          ]
        },
        {
          "output_type": "stream",
          "name": "stderr",
          "text": [
            "Training: 100%|██████████| 23/23 [00:17<00:00,  1.31it/s, loss=0.0116]\n"
          ]
        },
        {
          "output_type": "stream",
          "name": "stdout",
          "text": [
            "train loss: 0.0215, train accuracy: 0.9973\n",
            "val loss: 1.5000, val accuracy: 0.7284\n",
            "current learning rate: 3.13e-07\n",
            "\n",
            "epoch 22/25\n"
          ]
        },
        {
          "output_type": "stream",
          "name": "stderr",
          "text": [
            "Training: 100%|██████████| 23/23 [00:17<00:00,  1.31it/s, loss=0.00999]\n"
          ]
        },
        {
          "output_type": "stream",
          "name": "stdout",
          "text": [
            "train loss: 0.0133, train accuracy: 0.9986\n",
            "val loss: 1.4868, val accuracy: 0.7284\n",
            "current learning rate: 3.13e-07\n",
            "\n",
            "epoch 23/25\n"
          ]
        },
        {
          "output_type": "stream",
          "name": "stderr",
          "text": [
            "Training: 100%|██████████| 23/23 [00:17<00:00,  1.31it/s, loss=0.00707]\n"
          ]
        },
        {
          "output_type": "stream",
          "name": "stdout",
          "text": [
            "train loss: 0.0126, train accuracy: 0.9986\n",
            "val loss: 1.4600, val accuracy: 0.7284\n",
            "current learning rate: 3.13e-07\n",
            "\n",
            "epoch 24/25\n"
          ]
        },
        {
          "output_type": "stream",
          "name": "stderr",
          "text": [
            "Training: 100%|██████████| 23/23 [00:17<00:00,  1.30it/s, loss=0.00519]\n"
          ]
        },
        {
          "output_type": "stream",
          "name": "stdout",
          "text": [
            "train loss: 0.0125, train accuracy: 0.9986\n",
            "val loss: 1.4483, val accuracy: 0.7284\n",
            "current learning rate: 1.56e-07\n",
            "\n",
            "epoch 25/25\n"
          ]
        },
        {
          "output_type": "stream",
          "name": "stderr",
          "text": [
            "Training: 100%|██████████| 23/23 [00:17<00:00,  1.31it/s, loss=0.00597]\n"
          ]
        },
        {
          "output_type": "stream",
          "name": "stdout",
          "text": [
            "train loss: 0.0160, train accuracy: 0.9973\n",
            "val loss: 1.4648, val accuracy: 0.7284\n",
            "current learning rate: 1.56e-07\n",
            "\n",
            "Preparing submission...\n"
          ]
        },
        {
          "output_type": "stream",
          "name": "stderr",
          "text": [
            "Generating predictions: 100%|██████████| 228/228 [01:02<00:00,  3.67it/s]\n"
          ]
        },
        {
          "output_type": "stream",
          "name": "stdout",
          "text": [
            "Submission ready!\n",
            "\n",
            "final results comparison:\n",
            "\n",
            "classical models:\n",
            "\n",
            "Random Forest:\n",
            "accuracy: 0.7901\n",
            "training Time: 1.30 seconds\n",
            "inference Time: 0.02 seconds\n",
            "\n",
            "Logistic Regression:\n",
            "accuracy: 0.7284\n",
            "training Time: 0.04 seconds\n",
            "inference Time: 0.00 seconds\n",
            "\n",
            "SVM-Linear:\n",
            "accuracy: 0.8148\n",
            "training Time: 0.04 seconds\n",
            "inference Time: 0.00 seconds\n",
            "\n",
            "deep learning model:\n",
            "best validation accuracy: 0.8025\n",
            "total training time: 573.78 seconds\n"
          ]
        },
        {
          "output_type": "display_data",
          "data": {
            "text/plain": [
              "<Figure size 1500x500 with 2 Axes>"
            ],
            "image/png": "[encoded data removed]"
          },
          "metadata": {}
        },
        {
          "output_type": "display_data",
          "data": {
            "text/plain": [
              "<Figure size 800x600 with 2 Axes>"
            ],
            "image/png": "[encoded data removed]"
          },
          "metadata": {}
        }
      ]
    },
    {
      "cell_type": "markdown",
      "source": [
        "**Comparison and Conclusions:**\n",
        "\n",
        "\n",
        "**Accuracy:** the deep learning model achieves higher accuracy compared to the classical models. This is often the case with deep learning models, especially for complex tasks like text classification.\n",
        "\n",
        "**Training Time:** classical models generally train much faster than deep learning models. the code likely shows a significant difference in training time between the two types of models.\n",
        "\n",
        "**Interpretability:** classical models are generally more interpretable than deep learning models. it's easier to understand how they make predictions, while deep learning models are often considered \"black boxes.\"\n",
        "\n",
        "**data requirements:** deep learning models usually require more data to train effectively compared to classical models.\n",
        "\n",
        "**Multilingual Capabilities:** XLM-RoBERTa is specifically designed for multilingual text, good for datasets with multiple languages. classical models need specific adaptations to handle multilingual data.\n",
        "\n",
        "**Summary:**\n",
        "if accuracy is the primary concern and sufficient data and computational resources are available, deep learning models like XLM-RoBERTa are often the better choice.\n",
        "if training time or interpretability is more important, classical models can be suitable alternatives."
      ],
      "metadata": {
        "id": "WswACFW_UzWz"
      }
    },
    {
      "cell_type": "code",
      "source": [
        "model = CustomClassifier()\n",
        "\n",
        "model.load_state_dict(torch.load('best_model.pt'))\n",
        "\n",
        "model.to(DEVICE)\n",
        "\n",
        "model.eval()\n",
        "\n",
        "text1 = \"hello my name is Lidor\"\n",
        "text2 = \"The hydraulic system is operating at 2500 PSI, maintaining optimal torque efficiency for industrial automation.\"\n",
        "\n",
        "with torch.no_grad():\n",
        "  # tokenize the text and make prediction for text1\n",
        "  encoding1 = tokenizer(\n",
        "      text1,\n",
        "      truncation=True,\n",
        "      max_length=MAX_LENGTH,\n",
        "      padding='max_length',\n",
        "      return_tensors='pt'\n",
        "  )\n",
        "\n",
        "  # move tensors to the appropriate device\n",
        "  encoding1 = {k: v.to(DEVICE) for k, v in encoding1.items()}\n",
        "\n",
        "  # call the model with the tokenized inputs\n",
        "  prediction1 = model(**encoding1)[1]\n",
        "\n",
        "  # get the predicted class index (Corrected line)\n",
        "  predicted_class_index1 = torch.argmax(prediction1, dim=1).item()  # .item() to get a single value\n",
        "\n",
        "  # convert the index to a label\n",
        "  prediction_label1 = \"H\" if predicted_class_index1 == 0 else \"M\"\n",
        "\n",
        "  # print the prediction\n",
        "  print(f\"Prediction for text1: {prediction_label1}\")\n",
        "\n",
        "  # tokenize the text and make prediction for text2\n",
        "  encoding2 = tokenizer(\n",
        "      text2,\n",
        "      truncation=True,\n",
        "      max_length=MAX_LENGTH,\n",
        "      padding='max_length',\n",
        "      return_tensors='pt'\n",
        "  )\n",
        "\n",
        "  # move tensors to the appropriate device\n",
        "  encoding2 = {k: v.to(DEVICE) for k, v in encoding2.items()}\n",
        "\n",
        "  # call the model with the tokenized inputs\n",
        "  prediction2 = model(**encoding2)[1]\n",
        "\n",
        "  # get the predicted class index (Corrected line)\n",
        "  predicted_class_index2 = torch.argmax(prediction2, dim=1).item()  # .item() to get a single value\n",
        "\n",
        "  # convert the index to a label\n",
        "  prediction_label2 = \"H\" if predicted_class_index2 == 0 else \"M\"\n",
        "\n",
        "  # print the prediction\n",
        "  print(f\"Prediction for text2: {prediction_label2}\")"
      ],
      "metadata": {
        "colab": {
          "base_uri": "https://localhost:8080/"
        },
        "id": "lqmd89K1E4W2",
        "outputId": "e585f5bc-b413-44d5-c112-7a0628fca0c0"
      },
      "execution_count": null,
      "outputs": [
        {
          "output_type": "stream",
          "name": "stderr",
          "text": [
            "Some weights of XLMRobertaForSequenceClassification were not initialized from the model checkpoint at xlm-roberta-base and are newly initialized: ['classifier.dense.bias', 'classifier.dense.weight', 'classifier.out_proj.bias', 'classifier.out_proj.weight']\n",
            "You should probably TRAIN this model on a down-stream task to be able to use it for predictions and inference.\n",
            "<ipython-input-20-1dfb30538df9>:3: FutureWarning: You are using `torch.load` with `weights_only=False` (the current default value), which uses the default pickle module implicitly. It is possible to construct malicious pickle data which will execute arbitrary code during unpickling (See https://github.com/pytorch/pytorch/blob/main/SECURITY.md#untrusted-models for more details). In a future release, the default value for `weights_only` will be flipped to `True`. This limits the functions that could be executed during unpickling. Arbitrary objects will no longer be allowed to be loaded via this mode unless they are explicitly allowlisted by the user via `torch.serialization.add_safe_globals`. We recommend you start setting `weights_only=True` for any use case where you don't have full control of the loaded file. Please open an issue on GitHub for any issues related to this experimental feature.\n",
            "  model.load_state_dict(torch.load('best_model.pt'))\n"
          ]
        },
        {
          "output_type": "stream",
          "name": "stdout",
          "text": [
            "Prediction for text1: H\n",
            "Prediction for text2: M\n"
          ]
        }
      ]
    },
    {
      "cell_type": "code",
      "source": [],
      "metadata": {
        "id": "aRngf8xQIF1k"
      },
      "execution_count": null,
      "outputs": []
    }
  ]
}